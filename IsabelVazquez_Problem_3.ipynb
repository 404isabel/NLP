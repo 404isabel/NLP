{
  "nbformat": 4,
  "nbformat_minor": 0,
  "metadata": {
    "colab": {
      "name": "IsabelVazquez_Problem_3.ipynb",
      "provenance": [],
      "collapsed_sections": [],
      "include_colab_link": true
    },
    "kernelspec": {
      "name": "python3",
      "display_name": "Python 3"
    }
  },
  "cells": [
    {
      "cell_type": "markdown",
      "metadata": {
        "id": "view-in-github",
        "colab_type": "text"
      },
      "source": [
        "<a href=\"https://colab.research.google.com/github/404isabel/NLP/blob/master/IsabelVazquez_Problem_3.ipynb\" target=\"_parent\"><img src=\"https://colab.research.google.com/assets/colab-badge.svg\" alt=\"Open In Colab\"/></a>"
      ]
    },
    {
      "cell_type": "code",
      "metadata": {
        "id": "gy8PLXt7xA8U",
        "colab_type": "code",
        "colab": {}
      },
      "source": [
        "import nltk"
      ],
      "execution_count": 0,
      "outputs": []
    },
    {
      "cell_type": "code",
      "metadata": {
        "id": "9aI4bPHwMA8M",
        "colab_type": "code",
        "outputId": "dcc23c82-bacc-4e87-acf9-1f058b2f5f5c",
        "colab": {
          "base_uri": "https://localhost:8080/",
          "height": 90
        }
      },
      "source": [
        "nltk.download('averaged_perceptron_tagger')"
      ],
      "execution_count": 2,
      "outputs": [
        {
          "output_type": "stream",
          "text": [
            "[nltk_data] Downloading package averaged_perceptron_tagger to\n",
            "[nltk_data]     /root/nltk_data...\n",
            "[nltk_data]   Unzipping taggers/averaged_perceptron_tagger.zip.\n"
          ],
          "name": "stdout"
        },
        {
          "output_type": "execute_result",
          "data": {
            "text/plain": [
              "True"
            ]
          },
          "metadata": {
            "tags": []
          },
          "execution_count": 2
        }
      ]
    },
    {
      "cell_type": "code",
      "metadata": {
        "id": "wnQ3u3PMzabV",
        "colab_type": "code",
        "colab": {}
      },
      "source": [
        "#The input text, that will be used to make the predictions\n",
        "input_text=\"Just A Rather Very Intelligent System a.k.a JARVIS is created by Tony Stark natural-language and a sophisticated artificial intelligence user interface computer system, named after Edwin Jarvis, the butler who worked for Howard Stark. Though its primary duty is to automate Stark’s Malibu estate, the lifelike program fulfills many other needs for Stark, like being an information source for him, a diagnostic tool, a consultant and a voice of reason in Stark’s life. It was also responsible to provide security for Tony Stark's Mansion and Stark Tower. After creating the Mark II armor, Stark uploaded JARVIS into all of the Iron Man Armors, as well as allowing him to interact with the other Avengers, giving them valuable information during combat. JARVIS may be the one intellect Stark feels most comfortable opening up to. JARVIS can object to Stark’s commands if necessary. JARVIS speaks with a refined British accent, and is capable of back talk, sarcasm and condescension. During the Ultron Offensive, JARVIS was destroyed by Ultron, although his remaining programming codes unknowingly continued to thwart Ultron's plans of gaining access to nuclear missiles. His remains were found by Stark, who uploaded them into a synthetic body made of vibranium and, in conjunction with Ultron's personality and an Infinity Stone. JARVIS' duties were then taken over by FRIDAY. \""
      ],
      "execution_count": 0,
      "outputs": []
    },
    {
      "cell_type": "code",
      "metadata": {
        "id": "UlAY1DBrwZbp",
        "colab_type": "code",
        "colab": {}
      },
      "source": [
        "#Replace invalid characters\n",
        "input_text=input_text.replace(\"’\",\"'\")\n",
        "input_text=input_text.replace(\",\",\"\")"
      ],
      "execution_count": 0,
      "outputs": []
    },
    {
      "cell_type": "markdown",
      "metadata": {
        "id": "efIiY2nMsGx4",
        "colab_type": "text"
      },
      "source": [
        "Tags all the words of the input text"
      ]
    },
    {
      "cell_type": "code",
      "metadata": {
        "id": "pf0PkSrHLDIj",
        "colab_type": "code",
        "outputId": "e76929b7-38ba-4ab7-9df0-c04046100fe9",
        "colab": {
          "base_uri": "https://localhost:8080/",
          "height": 74
        }
      },
      "source": [
        "#Categorize all the words in nouns, prepositions, verbs, etc..\n",
        "from nltk import TreebankWordTokenizer\n",
        "tbt = TreebankWordTokenizer()\n",
        "tags = nltk.pos_tag(tbt.tokenize(input_text))\n",
        "print(tags)\n",
        "print(len(tags))"
      ],
      "execution_count": 9,
      "outputs": [
        {
          "output_type": "stream",
          "text": [
            "[('Just', 'RB'), ('A', 'DT'), ('Rather', 'RB'), ('Very', 'NNP'), ('Intelligent', 'NNP'), ('System', 'NNP'), ('a.k.a', 'JJ'), ('JARVIS', 'NNP'), ('is', 'VBZ'), ('created', 'VBN'), ('by', 'IN'), ('Tony', 'NNP'), ('Stark', 'NNP'), ('natural-language', 'NN'), ('and', 'CC'), ('a', 'DT'), ('sophisticated', 'JJ'), ('artificial', 'JJ'), ('intelligence', 'NN'), ('user', 'NN'), ('interface', 'NN'), ('computer', 'NN'), ('system', 'NN'), ('named', 'VBN'), ('after', 'IN'), ('Edwin', 'NNP'), ('Jarvis', 'NNP'), ('the', 'DT'), ('butler', 'NN'), ('who', 'WP'), ('worked', 'VBD'), ('for', 'IN'), ('Howard', 'NNP'), ('Stark.', 'NNP'), ('Though', 'NNP'), ('its', 'PRP$'), ('primary', 'JJ'), ('duty', 'NN'), ('is', 'VBZ'), ('to', 'TO'), ('automate', 'VB'), ('Stark', 'NNP'), (\"'s\", 'POS'), ('Malibu', 'NNP'), ('estate', 'NN'), ('the', 'DT'), ('lifelike', 'NN'), ('program', 'NN'), ('fulfills', 'NNS'), ('many', 'JJ'), ('other', 'JJ'), ('needs', 'NNS'), ('for', 'IN'), ('Stark', 'NNP'), ('like', 'IN'), ('being', 'VBG'), ('an', 'DT'), ('information', 'NN'), ('source', 'NN'), ('for', 'IN'), ('him', 'PRP'), ('a', 'DT'), ('diagnostic', 'JJ'), ('tool', 'NN'), ('a', 'DT'), ('consultant', 'NN'), ('and', 'CC'), ('a', 'DT'), ('voice', 'NN'), ('of', 'IN'), ('reason', 'NN'), ('in', 'IN'), ('Stark', 'NNP'), (\"'s\", 'POS'), ('life.', 'NN'), ('It', 'PRP'), ('was', 'VBD'), ('also', 'RB'), ('responsible', 'JJ'), ('to', 'TO'), ('provide', 'VB'), ('security', 'NN'), ('for', 'IN'), ('Tony', 'NNP'), ('Stark', 'NNP'), (\"'s\", 'POS'), ('Mansion', 'NNP'), ('and', 'CC'), ('Stark', 'NNP'), ('Tower.', 'NNP'), ('After', 'IN'), ('creating', 'VBG'), ('the', 'DT'), ('Mark', 'NNP'), ('II', 'NNP'), ('armor', 'NN'), ('Stark', 'NNP'), ('uploaded', 'VBD'), ('JARVIS', 'NNP'), ('into', 'IN'), ('all', 'DT'), ('of', 'IN'), ('the', 'DT'), ('Iron', 'NNP'), ('Man', 'NNP'), ('Armors', 'NNPS'), ('as', 'RB'), ('well', 'RB'), ('as', 'IN'), ('allowing', 'VBG'), ('him', 'PRP'), ('to', 'TO'), ('interact', 'VB'), ('with', 'IN'), ('the', 'DT'), ('other', 'JJ'), ('Avengers', 'NNPS'), ('giving', 'VBG'), ('them', 'PRP'), ('valuable', 'JJ'), ('information', 'NN'), ('during', 'IN'), ('combat.', 'NN'), ('JARVIS', 'NNP'), ('may', 'MD'), ('be', 'VB'), ('the', 'DT'), ('one', 'CD'), ('intellect', 'NN'), ('Stark', 'NNP'), ('feels', 'VBZ'), ('most', 'RBS'), ('comfortable', 'JJ'), ('opening', 'VBG'), ('up', 'RP'), ('to.', 'JJ'), ('JARVIS', 'NNP'), ('can', 'MD'), ('object', 'VB'), ('to', 'TO'), ('Stark', 'NNP'), (\"'s\", 'POS'), ('commands', 'NNS'), ('if', 'IN'), ('necessary.', 'JJ'), ('JARVIS', 'NNP'), ('speaks', 'VBZ'), ('with', 'IN'), ('a', 'DT'), ('refined', 'JJ'), ('British', 'JJ'), ('accent', 'NN'), ('and', 'CC'), ('is', 'VBZ'), ('capable', 'JJ'), ('of', 'IN'), ('back', 'JJ'), ('talk', 'NN'), ('sarcasm', 'NN'), ('and', 'CC'), ('condescension.', 'NN'), ('During', 'IN'), ('the', 'DT'), ('Ultron', 'NNP'), ('Offensive', 'NNP'), ('JARVIS', 'NNP'), ('was', 'VBD'), ('destroyed', 'VBN'), ('by', 'IN'), ('Ultron', 'NNP'), ('although', 'IN'), ('his', 'PRP$'), ('remaining', 'VBG'), ('programming', 'VBG'), ('codes', 'NNS'), ('unknowingly', 'RB'), ('continued', 'VBD'), ('to', 'TO'), ('thwart', 'VB'), ('Ultron', 'NNP'), (\"'s\", 'POS'), ('plans', 'NNS'), ('of', 'IN'), ('gaining', 'VBG'), ('access', 'NN'), ('to', 'TO'), ('nuclear', 'JJ'), ('missiles.', 'VB'), ('His', 'PRP$'), ('remains', 'NNS'), ('were', 'VBD'), ('found', 'VBN'), ('by', 'IN'), ('Stark', 'NNP'), ('who', 'WP'), ('uploaded', 'VBD'), ('them', 'PRP'), ('into', 'IN'), ('a', 'DT'), ('synthetic', 'JJ'), ('body', 'NN'), ('made', 'VBD'), ('of', 'IN'), ('vibranium', 'NN'), ('and', 'CC'), ('in', 'IN'), ('conjunction', 'NN'), ('with', 'IN'), ('Ultron', 'NNP'), (\"'s\", 'POS'), ('personality', 'NN'), ('and', 'CC'), ('an', 'DT'), ('Infinity', 'NNP'), ('Stone.', 'NNP'), ('JARVIS', 'NNP'), (\"'\", 'POS'), ('duties', 'NNS'), ('were', 'VBD'), ('then', 'RB'), ('taken', 'VBN'), ('over', 'RP'), ('by', 'IN'), ('FRIDAY', 'NNP'), ('.', '.')]\n",
            "225\n"
          ],
          "name": "stdout"
        }
      ]
    },
    {
      "cell_type": "markdown",
      "metadata": {
        "id": "66VBKXyBsQlT",
        "colab_type": "text"
      },
      "source": [
        "Tokenize the input text"
      ]
    },
    {
      "cell_type": "code",
      "metadata": {
        "id": "4sVHXVtwR6iY",
        "colab_type": "code",
        "outputId": "60f6ee42-2413-446a-b25e-f78e28e1e21a",
        "colab": {
          "base_uri": "https://localhost:8080/",
          "height": 35
        }
      },
      "source": [
        "#Tokenize the input text\n",
        "tokens=tbt.tokenize(input_text) \n",
        "print(len(tokens))"
      ],
      "execution_count": 10,
      "outputs": [
        {
          "output_type": "stream",
          "text": [
            "225\n"
          ],
          "name": "stdout"
        }
      ]
    },
    {
      "cell_type": "markdown",
      "metadata": {
        "id": "hBKbtzfHsT-E",
        "colab_type": "text"
      },
      "source": [
        "Function to get the next Linguistic Units"
      ]
    },
    {
      "cell_type": "code",
      "metadata": {
        "id": "ftRLi6FIcBAe",
        "colab_type": "code",
        "colab": {}
      },
      "source": [
        "#This function gets the type of the word, based on the tags\n",
        "def getType(i):  \n",
        "  tag=tags[i]\n",
        "  wordType=tag[1] #NNP, NN, JJ, etc...\n",
        "  return wordType\n",
        "\n",
        "#This function gets the next Linguistic Unit (not only the word)\n",
        "#Params:\n",
        "#tokens: bigram or trigram\n",
        "#i: index of the element in the input text\n",
        "#n: 2 (bigram), 3(trigram)\n",
        "def getNextLinguisticUnits(tokens,i,n):\n",
        "  words=[]\n",
        "  \n",
        "  #The first word\n",
        "  word=tokens[i+n]\n",
        "  \n",
        "  #Detects the type of word \n",
        "  wordType=getType(i+n) \n",
        "  pos=i+n+1\n",
        "  linguisticUnit=word\n",
        "  \n",
        "  #This code creates and adds the linguistic units given a bigram or trigram, depending on the type of the word\n",
        "  \n",
        "  #Prepositions, determiners, modal auxiliaries, to, posesives (') --> this words are not usually a linguistic unit by themselves\n",
        "  #This code generates a string \"prep\" that will be added later to the next words\n",
        "  prep=\"\"\n",
        "  if wordType in [\"IN\", \"DT\",\"MD\",\"TO\",\"POS\"]: \n",
        "    prep=linguisticUnit\n",
        "    #Search the next word\n",
        "    go=True        \n",
        "    while wordType in [\"IN\", \"DT\",\"MD\",\"TO\",\"POS\"] and pos<len(tokens) and go:\n",
        "      w=tokens[pos]      \n",
        "      wordType=getType(pos)\n",
        "      if wordType in [\"IN\", \"DT\",\"MD\",\"TO\",\"POS\"]:\n",
        "        prep+=\" \"+w               \n",
        "        pos=pos+1\n",
        "\n",
        "      if w[len(w)-1:len(w)]=='.':go=False #If the word has a dot the function doesn't continue searching the next word\n",
        "\n",
        "    prep+=\" \"        \n",
        "  \n",
        "  if prep!=\"\":\n",
        "    linguisticUnit=tokens[pos]\n",
        "    wordType=getType(pos)\n",
        "\n",
        "  #JJ: Adjetives\n",
        "  #Adjetives can be followed by other adjetives or nouns.\n",
        "  #In this code, the prepositions are added to the adjetives (if there was any), and the adjetives are added toghether\n",
        "  if wordType == 'JJ': \n",
        "    if prep!=\"\":\n",
        "      pos=pos+1\n",
        "    go=True\n",
        "    while wordType == 'JJ' and pos+1<len(tokens)-1 and go:\n",
        "      adj=tokens[pos]      \n",
        "      wordType=getType(pos)\n",
        "      \n",
        "      if wordType == 'JJ':\n",
        "        linguisticUnit+=\" \"+adj \n",
        "        pos+=1\n",
        "      if adj[len(adj)-1:len(adj)]=='.':go=False\n",
        "    \n",
        "    w=tokens[pos]      \n",
        "    wordType=getType(pos)\n",
        "    \n",
        "    if wordType in [\"NN\",\"NNS\"] and w[len(w)-1:len(w)]!='.':\n",
        "        linguisticUnit+=\" \"+w\n",
        "\n",
        "    words.append(prep+linguisticUnit.replace(\".\",\"\")) \n",
        "\n",
        "  #NNP: Proper nouns\n",
        "  #In this code, the prepositions are added to the proper nouns (if there was any), and the proper nouns are added toghether: Example: Tony Stark\n",
        "  elif wordType == 'NNP':  \n",
        "    if prep!=\"\":\n",
        "      pos=pos+1\n",
        "    go=True \n",
        "    while wordType == 'NNP' and pos<len(tokens)-1 and go:\n",
        "      w=tokens[pos]        \n",
        "      wordType=getType(pos)\n",
        "            \n",
        "      if wordType == 'NNP':\n",
        "        linguisticUnit+=\" \"+w                 \n",
        "        pos=pos+1\n",
        "      if w[len(w)-1:len(w)]=='.':go=False        \n",
        "    words.append(prep+linguisticUnit.replace(\".\",\"\"))\n",
        "\n",
        "  #NN, NNS: Nouns\n",
        "  #In this code, the prepositions are added to the nouns (if there was any), and the nouns are added toghether\n",
        "  elif wordType in [\"NN\",\"NNS\"]:       \n",
        "    if linguisticUnit[:len(linguisticUnit)-1]!='.':\n",
        "      words.append(prep+linguisticUnit.replace(\".\",\"\"))\n",
        "      if prep!=\"\":\n",
        "        pos=pos+1 \n",
        "      go=True\n",
        "      while wordType in [\"NN\",\"NNS\"] and pos<len(tokens)-1 and go:\n",
        "        w=tokens[pos]\n",
        "        wordType=getType(pos)                  \n",
        "        if wordType in [\"NN\",\"NNS\"]:\n",
        "          linguisticUnit+=\" \"+w\n",
        "          words.append(prep+linguisticUnit.replace(\".\",\"\"))          \n",
        "          pos=pos+1\n",
        "        if w[len(w)-1:len(w)]=='.':go=False \n",
        "  \n",
        "  #The rest of the other words  \n",
        "  else:\n",
        "    #It's a linguistic unit   \n",
        "    words.append(prep+(linguisticUnit).replace(\".\",\"\"))\n",
        "   \n",
        "\n",
        "  return words"
      ],
      "execution_count": 0,
      "outputs": []
    },
    {
      "cell_type": "markdown",
      "metadata": {
        "id": "WzTFXLQtsh7A",
        "colab_type": "text"
      },
      "source": [
        "Function to create a n-gram (bigram or trigram)"
      ]
    },
    {
      "cell_type": "code",
      "metadata": {
        "id": "-i6Xu22QSBGq",
        "colab_type": "code",
        "colab": {}
      },
      "source": [
        "#Creates a n-gram\n",
        "#params\n",
        "#tokens: tokens of words\n",
        "#n: n=3 (trigram) or n=2 (bigram)\n",
        "def createNgram(tokens,n):\n",
        "  ngrams = {}\n",
        "  for i in range(len(tokens)-n):\n",
        "      k=()\n",
        "      if n==3: \n",
        "        k = (tokens[i],tokens[i+1],tokens[i+2])          \n",
        "      elif n==2:\n",
        "        k = (tokens[i],tokens[i+1])\n",
        "      if k not in ngrams: #if the bigram doesn't exists, it is created\n",
        "          ngrams[k] = []\n",
        "      \n",
        "      words=getNextLinguisticUnits(tokens,i,n) #get the next 'words'   \n",
        "      for word in words: ngrams[k].append(word) #append the words to the n-gram                                    \n",
        "  return ngrams"
      ],
      "execution_count": 0,
      "outputs": []
    },
    {
      "cell_type": "markdown",
      "metadata": {
        "id": "osdXEwuIsspQ",
        "colab_type": "text"
      },
      "source": [
        "Test the function createNgram"
      ]
    },
    {
      "cell_type": "code",
      "metadata": {
        "id": "9jkWbRHAZ1Yk",
        "colab_type": "code",
        "colab": {
          "base_uri": "https://localhost:8080/",
          "height": 55
        },
        "outputId": "a2e80408-16be-41f9-fec3-d963986affb2"
      },
      "source": [
        "#Test the function createNgram with a trigram\n",
        "trigram=createNgram(tokens,3)\n",
        "print(trigram)"
      ],
      "execution_count": 126,
      "outputs": [
        {
          "output_type": "stream",
          "text": [
            "{('Just', 'A', 'Rather'): ['Very Intelligent System'], ('A', 'Rather', 'Very'): ['Intelligent System'], ('Rather', 'Very', 'Intelligent'): ['System'], ('Very', 'Intelligent', 'System'): ['aka'], ('Intelligent', 'System', 'a.k.a'): ['JARVIS'], ('System', 'a.k.a', 'JARVIS'): ['is'], ('a.k.a', 'JARVIS', 'is'): ['created'], ('JARVIS', 'is', 'created'): ['by Tony Stark'], ('is', 'created', 'by'): ['Tony Stark'], ('created', 'by', 'Tony'): ['Stark'], ('by', 'Tony', 'Stark'): ['natural-language'], ('Tony', 'Stark', 'natural-language'): ['and'], ('Stark', 'natural-language', 'and'): ['a sophisticated artificial intelligence'], ('natural-language', 'and', 'a'): ['sophisticated artificial intelligence'], ('and', 'a', 'sophisticated'): ['artificial intelligence'], ('a', 'sophisticated', 'artificial'): ['intelligence', 'intelligence user', 'intelligence user interface', 'intelligence user interface computer', 'intelligence user interface computer system'], ('sophisticated', 'artificial', 'intelligence'): ['user', 'user interface', 'user interface computer', 'user interface computer system'], ('artificial', 'intelligence', 'user'): ['interface', 'interface computer', 'interface computer system'], ('intelligence', 'user', 'interface'): ['computer', 'computer system'], ('user', 'interface', 'computer'): ['system'], ('interface', 'computer', 'system'): ['named'], ('computer', 'system', 'named'): ['after Edwin Jarvis'], ('system', 'named', 'after'): ['Edwin Jarvis'], ('named', 'after', 'Edwin'): ['Jarvis'], ('after', 'Edwin', 'Jarvis'): ['the butler'], ('Edwin', 'Jarvis', 'the'): ['butler'], ('Jarvis', 'the', 'butler'): ['who'], ('the', 'butler', 'who'): ['worked'], ('butler', 'who', 'worked'): ['for Howard Stark'], ('who', 'worked', 'for'): ['Howard Stark'], ('worked', 'for', 'Howard'): ['Stark Though'], ('for', 'Howard', 'Stark.'): ['Though'], ('Howard', 'Stark.', 'Though'): ['its'], ('Stark.', 'Though', 'its'): ['primary duty'], ('Though', 'its', 'primary'): ['duty'], ('its', 'primary', 'duty'): ['is'], ('primary', 'duty', 'is'): ['to automate'], ('duty', 'is', 'to'): ['automate'], ('is', 'to', 'automate'): ['Stark'], ('to', 'automate', 'Stark'): [\"'s Malibu\"], ('automate', 'Stark', \"'s\"): ['Malibu'], ('Stark', \"'s\", 'Malibu'): ['estate'], (\"'s\", 'Malibu', 'estate'): ['the lifelike', 'the lifelike program', 'the lifelike program fulfills'], ('Malibu', 'estate', 'the'): ['lifelike', 'lifelike program', 'lifelike program fulfills'], ('estate', 'the', 'lifelike'): ['program', 'program fulfills'], ('the', 'lifelike', 'program'): ['fulfills'], ('lifelike', 'program', 'fulfills'): ['many other needs'], ('program', 'fulfills', 'many'): ['other needs'], ('fulfills', 'many', 'other'): ['needs'], ('many', 'other', 'needs'): ['for Stark'], ('other', 'needs', 'for'): ['Stark'], ('needs', 'for', 'Stark'): ['like being'], ('for', 'Stark', 'like'): ['being'], ('Stark', 'like', 'being'): ['an information', 'an information source'], ('like', 'being', 'an'): ['information', 'information source'], ('being', 'an', 'information'): ['source'], ('an', 'information', 'source'): ['for him'], ('information', 'source', 'for'): ['him'], ('source', 'for', 'him'): ['a diagnostic tool'], ('for', 'him', 'a'): ['diagnostic tool'], ('him', 'a', 'diagnostic'): ['tool'], ('a', 'diagnostic', 'tool'): ['a consultant'], ('diagnostic', 'tool', 'a'): ['consultant'], ('tool', 'a', 'consultant'): ['and'], ('a', 'consultant', 'and'): ['a voice'], ('consultant', 'and', 'a'): ['voice'], ('and', 'a', 'voice'): ['of reason'], ('a', 'voice', 'of'): ['reason'], ('voice', 'of', 'reason'): ['in Stark'], ('of', 'reason', 'in'): ['Stark'], ('reason', 'in', 'Stark'): [\"'s life\"], ('in', 'Stark', \"'s\"): ['life'], ('Stark', \"'s\", 'life.'): ['It'], (\"'s\", 'life.', 'It'): ['was'], ('life.', 'It', 'was'): ['also'], ('It', 'was', 'also'): ['responsible'], ('was', 'also', 'responsible'): ['to provide'], ('also', 'responsible', 'to'): ['provide'], ('responsible', 'to', 'provide'): ['security'], ('to', 'provide', 'security'): ['for Tony Stark'], ('provide', 'security', 'for'): ['Tony Stark'], ('security', 'for', 'Tony'): ['Stark'], ('for', 'Tony', 'Stark'): [\"'s Mansion\"], ('Tony', 'Stark', \"'s\"): ['Mansion'], ('Stark', \"'s\", 'Mansion'): ['and'], (\"'s\", 'Mansion', 'and'): ['Stark Tower'], ('Mansion', 'and', 'Stark'): ['Tower'], ('and', 'Stark', 'Tower.'): ['After creating'], ('Stark', 'Tower.', 'After'): ['creating'], ('Tower.', 'After', 'creating'): ['the Mark II'], ('After', 'creating', 'the'): ['Mark II'], ('creating', 'the', 'Mark'): ['II'], ('the', 'Mark', 'II'): ['armor'], ('Mark', 'II', 'armor'): ['Stark'], ('II', 'armor', 'Stark'): ['uploaded'], ('armor', 'Stark', 'uploaded'): ['JARVIS'], ('Stark', 'uploaded', 'JARVIS'): ['into all of the Iron Man'], ('uploaded', 'JARVIS', 'into'): ['all of the Iron Man'], ('JARVIS', 'into', 'all'): ['of the Iron Man'], ('into', 'all', 'of'): ['the Iron Man'], ('all', 'of', 'the'): ['Iron Man'], ('of', 'the', 'Iron'): ['Man'], ('the', 'Iron', 'Man'): ['Armors'], ('Iron', 'Man', 'Armors'): ['as'], ('Man', 'Armors', 'as'): ['well'], ('Armors', 'as', 'well'): ['as allowing'], ('as', 'well', 'as'): ['allowing'], ('well', 'as', 'allowing'): ['him'], ('as', 'allowing', 'him'): ['to interact'], ('allowing', 'him', 'to'): ['interact'], ('him', 'to', 'interact'): ['with the other'], ('to', 'interact', 'with'): ['the other'], ('interact', 'with', 'the'): ['other'], ('with', 'the', 'other'): ['Avengers'], ('the', 'other', 'Avengers'): ['giving'], ('other', 'Avengers', 'giving'): ['them'], ('Avengers', 'giving', 'them'): ['valuable information'], ('giving', 'them', 'valuable'): ['information'], ('them', 'valuable', 'information'): ['during combat'], ('valuable', 'information', 'during'): ['combat'], ('information', 'during', 'combat.'): ['JARVIS'], ('during', 'combat.', 'JARVIS'): ['may be'], ('combat.', 'JARVIS', 'may'): ['be'], ('JARVIS', 'may', 'be'): ['the one'], ('may', 'be', 'the'): ['one'], ('be', 'the', 'one'): ['intellect'], ('the', 'one', 'intellect'): ['Stark'], ('one', 'intellect', 'Stark'): ['feels'], ('intellect', 'Stark', 'feels'): ['most'], ('Stark', 'feels', 'most'): ['comfortable'], ('feels', 'most', 'comfortable'): ['opening'], ('most', 'comfortable', 'opening'): ['up'], ('comfortable', 'opening', 'up'): ['to'], ('opening', 'up', 'to.'): ['JARVIS'], ('up', 'to.', 'JARVIS'): ['can object'], ('to.', 'JARVIS', 'can'): ['object'], ('JARVIS', 'can', 'object'): ['to Stark'], ('can', 'object', 'to'): ['Stark'], ('object', 'to', 'Stark'): [\"'s commands\"], ('to', 'Stark', \"'s\"): ['commands'], ('Stark', \"'s\", 'commands'): ['if necessary'], (\"'s\", 'commands', 'if'): ['necessary'], ('commands', 'if', 'necessary.'): ['JARVIS'], ('if', 'necessary.', 'JARVIS'): ['speaks'], ('necessary.', 'JARVIS', 'speaks'): ['with a refined British accent'], ('JARVIS', 'speaks', 'with'): ['a refined British accent'], ('speaks', 'with', 'a'): ['refined British accent'], ('with', 'a', 'refined'): ['British accent'], ('a', 'refined', 'British'): ['accent'], ('refined', 'British', 'accent'): ['and'], ('British', 'accent', 'and'): ['is'], ('accent', 'and', 'is'): ['capable'], ('and', 'is', 'capable'): ['of back talk'], ('is', 'capable', 'of'): ['back talk'], ('capable', 'of', 'back'): ['talk', 'talk sarcasm'], ('of', 'back', 'talk'): ['sarcasm'], ('back', 'talk', 'sarcasm'): ['and'], ('talk', 'sarcasm', 'and'): ['condescension'], ('sarcasm', 'and', 'condescension.'): ['During the Ultron Offensive JARVIS'], ('and', 'condescension.', 'During'): ['the Ultron Offensive JARVIS'], ('condescension.', 'During', 'the'): ['Ultron Offensive JARVIS'], ('During', 'the', 'Ultron'): ['Offensive JARVIS'], ('the', 'Ultron', 'Offensive'): ['JARVIS'], ('Ultron', 'Offensive', 'JARVIS'): ['was'], ('Offensive', 'JARVIS', 'was'): ['destroyed'], ('JARVIS', 'was', 'destroyed'): ['by Ultron'], ('was', 'destroyed', 'by'): ['Ultron'], ('destroyed', 'by', 'Ultron'): ['although his'], ('by', 'Ultron', 'although'): ['his'], ('Ultron', 'although', 'his'): ['remaining'], ('although', 'his', 'remaining'): ['programming'], ('his', 'remaining', 'programming'): ['codes'], ('remaining', 'programming', 'codes'): ['unknowingly'], ('programming', 'codes', 'unknowingly'): ['continued'], ('codes', 'unknowingly', 'continued'): ['to thwart'], ('unknowingly', 'continued', 'to'): ['thwart'], ('continued', 'to', 'thwart'): ['Ultron'], ('to', 'thwart', 'Ultron'): [\"'s plans\"], ('thwart', 'Ultron', \"'s\"): ['plans'], ('Ultron', \"'s\", 'plans'): ['of gaining'], (\"'s\", 'plans', 'of'): ['gaining'], ('plans', 'of', 'gaining'): ['access'], ('of', 'gaining', 'access'): ['to nuclear'], ('gaining', 'access', 'to'): ['nuclear'], ('access', 'to', 'nuclear'): ['missiles'], ('to', 'nuclear', 'missiles.'): ['His'], ('nuclear', 'missiles.', 'His'): ['remains'], ('missiles.', 'His', 'remains'): ['were'], ('His', 'remains', 'were'): ['found'], ('remains', 'were', 'found'): ['by Stark'], ('were', 'found', 'by'): ['Stark'], ('found', 'by', 'Stark'): ['who'], ('by', 'Stark', 'who'): ['uploaded'], ('Stark', 'who', 'uploaded'): ['them'], ('who', 'uploaded', 'them'): ['into a synthetic body'], ('uploaded', 'them', 'into'): ['a synthetic body'], ('them', 'into', 'a'): ['synthetic body'], ('into', 'a', 'synthetic'): ['body'], ('a', 'synthetic', 'body'): ['made'], ('synthetic', 'body', 'made'): ['of vibranium'], ('body', 'made', 'of'): ['vibranium'], ('made', 'of', 'vibranium'): ['and'], ('of', 'vibranium', 'and'): ['in conjunction'], ('vibranium', 'and', 'in'): ['conjunction'], ('and', 'in', 'conjunction'): ['with Ultron'], ('in', 'conjunction', 'with'): ['Ultron'], ('conjunction', 'with', 'Ultron'): [\"'s personality\"], ('with', 'Ultron', \"'s\"): ['personality'], ('Ultron', \"'s\", 'personality'): ['and'], (\"'s\", 'personality', 'and'): ['an Infinity Stone'], ('personality', 'and', 'an'): ['Infinity Stone'], ('and', 'an', 'Infinity'): ['Stone JARVIS'], ('an', 'Infinity', 'Stone.'): ['JARVIS'], ('Infinity', 'Stone.', 'JARVIS'): [\"' duties\"], ('Stone.', 'JARVIS', \"'\"): ['duties'], ('JARVIS', \"'\", 'duties'): ['were'], (\"'\", 'duties', 'were'): ['then'], ('duties', 'were', 'then'): ['taken'], ('were', 'then', 'taken'): ['over'], ('then', 'taken', 'over'): ['by FRIDAY'], ('taken', 'over', 'by'): ['FRIDAY'], ('over', 'by', 'FRIDAY'): ['']}\n"
          ],
          "name": "stdout"
        }
      ]
    },
    {
      "cell_type": "code",
      "metadata": {
        "id": "5511d1McZ8vB",
        "colab_type": "code",
        "colab": {
          "base_uri": "https://localhost:8080/",
          "height": 55
        },
        "outputId": "16193ccb-2584-40ad-a9d3-4bbee38c87e9"
      },
      "source": [
        "#Test the function createNgram with a bigram\n",
        "bigram=createNgram(tokens,2)\n",
        "print(bigram)"
      ],
      "execution_count": 127,
      "outputs": [
        {
          "output_type": "stream",
          "text": [
            "{('Just', 'A'): ['Rather'], ('A', 'Rather'): ['Very Intelligent System'], ('Rather', 'Very'): ['Intelligent System'], ('Very', 'Intelligent'): ['System'], ('Intelligent', 'System'): ['aka'], ('System', 'a.k.a'): ['JARVIS'], ('a.k.a', 'JARVIS'): ['is'], ('JARVIS', 'is'): ['created'], ('is', 'created'): ['by Tony Stark'], ('created', 'by'): ['Tony Stark'], ('by', 'Tony'): ['Stark'], ('Tony', 'Stark'): ['natural-language', \"'s Mansion\"], ('Stark', 'natural-language'): ['and'], ('natural-language', 'and'): ['a sophisticated artificial intelligence'], ('and', 'a'): ['sophisticated artificial intelligence', 'voice'], ('a', 'sophisticated'): ['artificial intelligence'], ('sophisticated', 'artificial'): ['intelligence', 'intelligence user', 'intelligence user interface', 'intelligence user interface computer', 'intelligence user interface computer system'], ('artificial', 'intelligence'): ['user', 'user interface', 'user interface computer', 'user interface computer system'], ('intelligence', 'user'): ['interface', 'interface computer', 'interface computer system'], ('user', 'interface'): ['computer', 'computer system'], ('interface', 'computer'): ['system'], ('computer', 'system'): ['named'], ('system', 'named'): ['after Edwin Jarvis'], ('named', 'after'): ['Edwin Jarvis'], ('after', 'Edwin'): ['Jarvis'], ('Edwin', 'Jarvis'): ['the butler'], ('Jarvis', 'the'): ['butler'], ('the', 'butler'): ['who'], ('butler', 'who'): ['worked'], ('who', 'worked'): ['for Howard Stark'], ('worked', 'for'): ['Howard Stark'], ('for', 'Howard'): ['Stark Though'], ('Howard', 'Stark.'): ['Though'], ('Stark.', 'Though'): ['its'], ('Though', 'its'): ['primary duty'], ('its', 'primary'): ['duty'], ('primary', 'duty'): ['is'], ('duty', 'is'): ['to automate'], ('is', 'to'): ['automate'], ('to', 'automate'): ['Stark'], ('automate', 'Stark'): [\"'s Malibu\"], ('Stark', \"'s\"): ['Malibu', 'life', 'Mansion', 'commands'], (\"'s\", 'Malibu'): ['estate'], ('Malibu', 'estate'): ['the lifelike', 'the lifelike program', 'the lifelike program fulfills'], ('estate', 'the'): ['lifelike', 'lifelike program', 'lifelike program fulfills'], ('the', 'lifelike'): ['program', 'program fulfills'], ('lifelike', 'program'): ['fulfills'], ('program', 'fulfills'): ['many other needs'], ('fulfills', 'many'): ['other needs'], ('many', 'other'): ['needs'], ('other', 'needs'): ['for Stark'], ('needs', 'for'): ['Stark'], ('for', 'Stark'): ['like being'], ('Stark', 'like'): ['being'], ('like', 'being'): ['an information', 'an information source'], ('being', 'an'): ['information', 'information source'], ('an', 'information'): ['source'], ('information', 'source'): ['for him'], ('source', 'for'): ['him'], ('for', 'him'): ['a diagnostic tool'], ('him', 'a'): ['diagnostic tool'], ('a', 'diagnostic'): ['tool'], ('diagnostic', 'tool'): ['a consultant'], ('tool', 'a'): ['consultant'], ('a', 'consultant'): ['and'], ('consultant', 'and'): ['a voice'], ('a', 'voice'): ['of reason'], ('voice', 'of'): ['reason'], ('of', 'reason'): ['in Stark'], ('reason', 'in'): ['Stark'], ('in', 'Stark'): [\"'s life\"], (\"'s\", 'life.'): ['It'], ('life.', 'It'): ['was'], ('It', 'was'): ['also'], ('was', 'also'): ['responsible'], ('also', 'responsible'): ['to provide'], ('responsible', 'to'): ['provide'], ('to', 'provide'): ['security'], ('provide', 'security'): ['for Tony Stark'], ('security', 'for'): ['Tony Stark'], ('for', 'Tony'): ['Stark'], (\"'s\", 'Mansion'): ['and'], ('Mansion', 'and'): ['Stark Tower'], ('and', 'Stark'): ['Tower'], ('Stark', 'Tower.'): ['After creating'], ('Tower.', 'After'): ['creating'], ('After', 'creating'): ['the Mark II'], ('creating', 'the'): ['Mark II'], ('the', 'Mark'): ['II'], ('Mark', 'II'): ['armor'], ('II', 'armor'): ['Stark'], ('armor', 'Stark'): ['uploaded'], ('Stark', 'uploaded'): ['JARVIS'], ('uploaded', 'JARVIS'): ['into all of the Iron Man'], ('JARVIS', 'into'): ['all of the Iron Man'], ('into', 'all'): ['of the Iron Man'], ('all', 'of'): ['the Iron Man'], ('of', 'the'): ['Iron Man'], ('the', 'Iron'): ['Man'], ('Iron', 'Man'): ['Armors'], ('Man', 'Armors'): ['as'], ('Armors', 'as'): ['well'], ('as', 'well'): ['as allowing'], ('well', 'as'): ['allowing'], ('as', 'allowing'): ['him'], ('allowing', 'him'): ['to interact'], ('him', 'to'): ['interact'], ('to', 'interact'): ['with the other'], ('interact', 'with'): ['the other'], ('with', 'the'): ['other'], ('the', 'other'): ['Avengers'], ('other', 'Avengers'): ['giving'], ('Avengers', 'giving'): ['them'], ('giving', 'them'): ['valuable information'], ('them', 'valuable'): ['information'], ('valuable', 'information'): ['during combat'], ('information', 'during'): ['combat'], ('during', 'combat.'): ['JARVIS'], ('combat.', 'JARVIS'): ['may be'], ('JARVIS', 'may'): ['be'], ('may', 'be'): ['the one'], ('be', 'the'): ['one'], ('the', 'one'): ['intellect'], ('one', 'intellect'): ['Stark'], ('intellect', 'Stark'): ['feels'], ('Stark', 'feels'): ['most'], ('feels', 'most'): ['comfortable'], ('most', 'comfortable'): ['opening'], ('comfortable', 'opening'): ['up'], ('opening', 'up'): ['to'], ('up', 'to.'): ['JARVIS'], ('to.', 'JARVIS'): ['can object'], ('JARVIS', 'can'): ['object'], ('can', 'object'): ['to Stark'], ('object', 'to'): ['Stark'], ('to', 'Stark'): [\"'s commands\"], (\"'s\", 'commands'): ['if necessary'], ('commands', 'if'): ['necessary'], ('if', 'necessary.'): ['JARVIS'], ('necessary.', 'JARVIS'): ['speaks'], ('JARVIS', 'speaks'): ['with a refined British accent'], ('speaks', 'with'): ['a refined British accent'], ('with', 'a'): ['refined British accent'], ('a', 'refined'): ['British accent'], ('refined', 'British'): ['accent'], ('British', 'accent'): ['and'], ('accent', 'and'): ['is'], ('and', 'is'): ['capable'], ('is', 'capable'): ['of back talk'], ('capable', 'of'): ['back talk'], ('of', 'back'): ['talk', 'talk sarcasm'], ('back', 'talk'): ['sarcasm'], ('talk', 'sarcasm'): ['and'], ('sarcasm', 'and'): ['condescension'], ('and', 'condescension.'): ['During the Ultron Offensive JARVIS'], ('condescension.', 'During'): ['the Ultron Offensive JARVIS'], ('During', 'the'): ['Ultron Offensive JARVIS'], ('the', 'Ultron'): ['Offensive JARVIS'], ('Ultron', 'Offensive'): ['JARVIS'], ('Offensive', 'JARVIS'): ['was'], ('JARVIS', 'was'): ['destroyed'], ('was', 'destroyed'): ['by Ultron'], ('destroyed', 'by'): ['Ultron'], ('by', 'Ultron'): ['although his'], ('Ultron', 'although'): ['his'], ('although', 'his'): ['remaining'], ('his', 'remaining'): ['programming'], ('remaining', 'programming'): ['codes'], ('programming', 'codes'): ['unknowingly'], ('codes', 'unknowingly'): ['continued'], ('unknowingly', 'continued'): ['to thwart'], ('continued', 'to'): ['thwart'], ('to', 'thwart'): ['Ultron'], ('thwart', 'Ultron'): [\"'s plans\"], ('Ultron', \"'s\"): ['plans', 'personality'], (\"'s\", 'plans'): ['of gaining'], ('plans', 'of'): ['gaining'], ('of', 'gaining'): ['access'], ('gaining', 'access'): ['to nuclear'], ('access', 'to'): ['nuclear'], ('to', 'nuclear'): ['missiles'], ('nuclear', 'missiles.'): ['His'], ('missiles.', 'His'): ['remains'], ('His', 'remains'): ['were'], ('remains', 'were'): ['found'], ('were', 'found'): ['by Stark'], ('found', 'by'): ['Stark'], ('by', 'Stark'): ['who'], ('Stark', 'who'): ['uploaded'], ('who', 'uploaded'): ['them'], ('uploaded', 'them'): ['into a synthetic body'], ('them', 'into'): ['a synthetic body'], ('into', 'a'): ['synthetic body'], ('a', 'synthetic'): ['body'], ('synthetic', 'body'): ['made'], ('body', 'made'): ['of vibranium'], ('made', 'of'): ['vibranium'], ('of', 'vibranium'): ['and'], ('vibranium', 'and'): ['in conjunction'], ('and', 'in'): ['conjunction'], ('in', 'conjunction'): ['with Ultron'], ('conjunction', 'with'): ['Ultron'], ('with', 'Ultron'): [\"'s personality\"], (\"'s\", 'personality'): ['and'], ('personality', 'and'): ['an Infinity Stone'], ('and', 'an'): ['Infinity Stone'], ('an', 'Infinity'): ['Stone JARVIS'], ('Infinity', 'Stone.'): ['JARVIS'], ('Stone.', 'JARVIS'): [\"' duties\"], ('JARVIS', \"'\"): ['duties'], (\"'\", 'duties'): ['were'], ('duties', 'were'): ['then'], ('were', 'then'): ['taken'], ('then', 'taken'): ['over'], ('taken', 'over'): ['by FRIDAY'], ('over', 'by'): ['FRIDAY'], ('by', 'FRIDAY'): ['']}\n"
          ],
          "name": "stdout"
        }
      ]
    },
    {
      "cell_type": "markdown",
      "metadata": {
        "id": "WTcROQllsxcg",
        "colab_type": "text"
      },
      "source": [
        "Function to predict the next word"
      ]
    },
    {
      "cell_type": "code",
      "metadata": {
        "id": "2No_CHHzfvvE",
        "colab_type": "code",
        "colab": {}
      },
      "source": [
        "#Function used to predict the next word\n",
        "#params:\n",
        "#input: input text\n",
        "#output: word 'linguistic unit' predicted\n",
        "def predictNextWord(input): \n",
        "  if len(input)<2:\n",
        "    print(\"At least two words are required\")\n",
        "  else:\n",
        "    inputTokens=tbt.tokenize(input)\n",
        "    #if the sentence has only two words\n",
        "    if len(inputTokens)==2:\n",
        "      ngrams=createNgram(tokens,2) #Creates de bi-gram\n",
        "      lastTokens=inputTokens[len(inputTokens)-2:len(inputTokens)] \n",
        "      k = (lastTokens[0],lastTokens[1])  \n",
        "      try:          \n",
        "         return ngrams[k]\n",
        "      except:\n",
        "         return [] #Nothing could be predicted\n",
        "    else:\n",
        "      ngrams=createNgram(tokens,3) #Creates the tri-gram\n",
        "      lastTokens=inputTokens[len(inputTokens)-3:len(inputTokens)] \n",
        "      k = (lastTokens[0],lastTokens[1],lastTokens[2])      \n",
        "      try:      \n",
        "        return ngrams[k]\n",
        "      except:\n",
        "        #if nothing could be predicted, it tries with a bi-gram\n",
        "        ngrams=createNgram(tokens,2)\n",
        "        k = (lastTokens[1],lastTokens[2])        \n",
        "        try:\n",
        "          return ngrams[k]\n",
        "        except:\n",
        "          return [] #Nothing could be predicted\n",
        "    "
      ],
      "execution_count": 0,
      "outputs": []
    },
    {
      "cell_type": "markdown",
      "metadata": {
        "id": "iQJtQ0MvbDu5",
        "colab_type": "text"
      },
      "source": [
        "### Predict the next 'word' given an input text\n",
        "**Inputs:**\n",
        "\n",
        "JARVIS was destroyed\n",
        "\n",
        "JARVIS is created by\n",
        "\n",
        "JARVIS can object to Stark's\n",
        "\n",
        "a sophisticated artificial\n",
        "\n",
        "**Output:**\n",
        "\n",
        "All the possible outputs given the input\n",
        "\n"
      ]
    },
    {
      "cell_type": "code",
      "metadata": {
        "id": "23HCgfqyaME7",
        "colab_type": "code",
        "outputId": "ce2a8587-33e6-4373-a3f7-65dc5576fff5",
        "colab": {
          "base_uri": "https://localhost:8080/",
          "height": 90
        }
      },
      "source": [
        "input1=\"JARVIS was destroyed\"\n",
        "input2=\"JARVIS is created by\"\n",
        "input3=\"JARVIS can object to Stark's\"\n",
        "input4=\"a sophisticated artificial\"\n",
        "print(input1+\" --> \"+str(predictNextWord(input1)))\n",
        "print(input2+\" --> \"+str(predictNextWord(input2)))\n",
        "print(input3+\" --> \"+str(predictNextWord(input3)))\n",
        "print(input4+\" --> \"+str(predictNextWord(input4)))\n"
      ],
      "execution_count": 129,
      "outputs": [
        {
          "output_type": "stream",
          "text": [
            "JARVIS was destroyed --> ['by Ultron']\n",
            "JARVIS is created by --> ['Tony Stark']\n",
            "JARVIS can object to Stark's --> ['commands']\n",
            "a sophisticated artificial --> ['intelligence', 'intelligence user', 'intelligence user interface', 'intelligence user interface computer', 'intelligence user interface computer system']\n"
          ],
          "name": "stdout"
        }
      ]
    },
    {
      "cell_type": "markdown",
      "metadata": {
        "id": "GnS4ewpZcaLH",
        "colab_type": "text"
      },
      "source": [
        "Examples with other inputs"
      ]
    },
    {
      "cell_type": "code",
      "metadata": {
        "id": "X6QwTsFsgqBM",
        "colab_type": "code",
        "outputId": "bfc9ef78-3226-43fa-dab4-43f72e7fe3fd",
        "colab": {
          "base_uri": "https://localhost:8080/",
          "height": 145
        }
      },
      "source": [
        "#Examples with other inputs\n",
        "input4=\"the butler who worked\"\n",
        "print(input4+\" --> \"+str(predictNextWord(input4)))\n",
        "input5=\"like being an information\"\n",
        "print(input5+\" --> \"+str(predictNextWord(input5)))\n",
        "input6=\"Mansion and Stark Tower\" \n",
        "print(input6+\" --> \"+str(predictNextWord(input6))) #Nothing could be predicted, as ther is a dot after the sentence in the text.\n",
        "input7=\"information during\"\n",
        "print(input7+\" --> \"+str(predictNextWord(input7)))\n",
        "input8=\"JARVIS speaks\"\n",
        "print(input8+\" --> \"+str(predictNextWord(input8))) #Nothing similar was found in the text, given \"in a boat\" or \"a boat\"\n",
        "input9=\"I was in a boat\"\n",
        "print(input9+\" --> \"+str(predictNextWord(input9)))\n",
        "input10=\"who uploaded them\"\n",
        "print(input10+\" --> \"+str(predictNextWord(input10)))"
      ],
      "execution_count": 133,
      "outputs": [
        {
          "output_type": "stream",
          "text": [
            "the butler who worked --> ['for Howard Stark']\n",
            "like being an information --> ['source']\n",
            "Mansion and Stark Tower --> []\n",
            "information during --> ['combat']\n",
            "JARVIS speaks --> ['with a refined British accent']\n",
            "I was in a boat --> []\n",
            "who uploaded them --> ['into a synthetic body']\n"
          ],
          "name": "stdout"
        }
      ]
    },
    {
      "cell_type": "markdown",
      "metadata": {
        "id": "1oDFfeM4ceyM",
        "colab_type": "text"
      },
      "source": [
        "Calculate the probabilities for each trigram"
      ]
    },
    {
      "cell_type": "code",
      "metadata": {
        "id": "0T2dfwjpYFLx",
        "colab_type": "code",
        "colab": {
          "base_uri": "https://localhost:8080/",
          "height": 55
        },
        "outputId": "3b0ca524-af23-406e-93c6-ca0b05fa946f"
      },
      "source": [
        "#Calculate the probabilities for each trigram\n",
        "ngram_probabilities =  {}\n",
        "for k,words in trigram.items():\n",
        "      d = {}\n",
        "      n = 0\n",
        "      for w in words:\n",
        "          if w not in d:\n",
        "              d[w] = 0\n",
        "          d[w] +=1\n",
        "          n +=1\n",
        "      for w,c in d.items():\n",
        "          d[w] = float(c)/n\n",
        "      ngram_probabilities[k] = d\n",
        "print(ngram_probabilities)"
      ],
      "execution_count": 134,
      "outputs": [
        {
          "output_type": "stream",
          "text": [
            "{('Just', 'A', 'Rather'): {'Very Intelligent System': 1.0}, ('A', 'Rather', 'Very'): {'Intelligent System': 1.0}, ('Rather', 'Very', 'Intelligent'): {'System': 1.0}, ('Very', 'Intelligent', 'System'): {'aka': 1.0}, ('Intelligent', 'System', 'a.k.a'): {'JARVIS': 1.0}, ('System', 'a.k.a', 'JARVIS'): {'is': 1.0}, ('a.k.a', 'JARVIS', 'is'): {'created': 1.0}, ('JARVIS', 'is', 'created'): {'by Tony Stark': 1.0}, ('is', 'created', 'by'): {'Tony Stark': 1.0}, ('created', 'by', 'Tony'): {'Stark': 1.0}, ('by', 'Tony', 'Stark'): {'natural-language': 1.0}, ('Tony', 'Stark', 'natural-language'): {'and': 1.0}, ('Stark', 'natural-language', 'and'): {'a sophisticated artificial intelligence': 1.0}, ('natural-language', 'and', 'a'): {'sophisticated artificial intelligence': 1.0}, ('and', 'a', 'sophisticated'): {'artificial intelligence': 1.0}, ('a', 'sophisticated', 'artificial'): {'intelligence': 0.2, 'intelligence user': 0.2, 'intelligence user interface': 0.2, 'intelligence user interface computer': 0.2, 'intelligence user interface computer system': 0.2}, ('sophisticated', 'artificial', 'intelligence'): {'user': 0.25, 'user interface': 0.25, 'user interface computer': 0.25, 'user interface computer system': 0.25}, ('artificial', 'intelligence', 'user'): {'interface': 0.3333333333333333, 'interface computer': 0.3333333333333333, 'interface computer system': 0.3333333333333333}, ('intelligence', 'user', 'interface'): {'computer': 0.5, 'computer system': 0.5}, ('user', 'interface', 'computer'): {'system': 1.0}, ('interface', 'computer', 'system'): {'named': 1.0}, ('computer', 'system', 'named'): {'after Edwin Jarvis': 1.0}, ('system', 'named', 'after'): {'Edwin Jarvis': 1.0}, ('named', 'after', 'Edwin'): {'Jarvis': 1.0}, ('after', 'Edwin', 'Jarvis'): {'the butler': 1.0}, ('Edwin', 'Jarvis', 'the'): {'butler': 1.0}, ('Jarvis', 'the', 'butler'): {'who': 1.0}, ('the', 'butler', 'who'): {'worked': 1.0}, ('butler', 'who', 'worked'): {'for Howard Stark': 1.0}, ('who', 'worked', 'for'): {'Howard Stark': 1.0}, ('worked', 'for', 'Howard'): {'Stark Though': 1.0}, ('for', 'Howard', 'Stark.'): {'Though': 1.0}, ('Howard', 'Stark.', 'Though'): {'its': 1.0}, ('Stark.', 'Though', 'its'): {'primary duty': 1.0}, ('Though', 'its', 'primary'): {'duty': 1.0}, ('its', 'primary', 'duty'): {'is': 1.0}, ('primary', 'duty', 'is'): {'to automate': 1.0}, ('duty', 'is', 'to'): {'automate': 1.0}, ('is', 'to', 'automate'): {'Stark': 1.0}, ('to', 'automate', 'Stark'): {\"'s Malibu\": 1.0}, ('automate', 'Stark', \"'s\"): {'Malibu': 1.0}, ('Stark', \"'s\", 'Malibu'): {'estate': 1.0}, (\"'s\", 'Malibu', 'estate'): {'the lifelike': 0.3333333333333333, 'the lifelike program': 0.3333333333333333, 'the lifelike program fulfills': 0.3333333333333333}, ('Malibu', 'estate', 'the'): {'lifelike': 0.3333333333333333, 'lifelike program': 0.3333333333333333, 'lifelike program fulfills': 0.3333333333333333}, ('estate', 'the', 'lifelike'): {'program': 0.5, 'program fulfills': 0.5}, ('the', 'lifelike', 'program'): {'fulfills': 1.0}, ('lifelike', 'program', 'fulfills'): {'many other needs': 1.0}, ('program', 'fulfills', 'many'): {'other needs': 1.0}, ('fulfills', 'many', 'other'): {'needs': 1.0}, ('many', 'other', 'needs'): {'for Stark': 1.0}, ('other', 'needs', 'for'): {'Stark': 1.0}, ('needs', 'for', 'Stark'): {'like being': 1.0}, ('for', 'Stark', 'like'): {'being': 1.0}, ('Stark', 'like', 'being'): {'an information': 0.5, 'an information source': 0.5}, ('like', 'being', 'an'): {'information': 0.5, 'information source': 0.5}, ('being', 'an', 'information'): {'source': 1.0}, ('an', 'information', 'source'): {'for him': 1.0}, ('information', 'source', 'for'): {'him': 1.0}, ('source', 'for', 'him'): {'a diagnostic tool': 1.0}, ('for', 'him', 'a'): {'diagnostic tool': 1.0}, ('him', 'a', 'diagnostic'): {'tool': 1.0}, ('a', 'diagnostic', 'tool'): {'a consultant': 1.0}, ('diagnostic', 'tool', 'a'): {'consultant': 1.0}, ('tool', 'a', 'consultant'): {'and': 1.0}, ('a', 'consultant', 'and'): {'a voice': 1.0}, ('consultant', 'and', 'a'): {'voice': 1.0}, ('and', 'a', 'voice'): {'of reason': 1.0}, ('a', 'voice', 'of'): {'reason': 1.0}, ('voice', 'of', 'reason'): {'in Stark': 1.0}, ('of', 'reason', 'in'): {'Stark': 1.0}, ('reason', 'in', 'Stark'): {\"'s life\": 1.0}, ('in', 'Stark', \"'s\"): {'life': 1.0}, ('Stark', \"'s\", 'life.'): {'It': 1.0}, (\"'s\", 'life.', 'It'): {'was': 1.0}, ('life.', 'It', 'was'): {'also': 1.0}, ('It', 'was', 'also'): {'responsible': 1.0}, ('was', 'also', 'responsible'): {'to provide': 1.0}, ('also', 'responsible', 'to'): {'provide': 1.0}, ('responsible', 'to', 'provide'): {'security': 1.0}, ('to', 'provide', 'security'): {'for Tony Stark': 1.0}, ('provide', 'security', 'for'): {'Tony Stark': 1.0}, ('security', 'for', 'Tony'): {'Stark': 1.0}, ('for', 'Tony', 'Stark'): {\"'s Mansion\": 1.0}, ('Tony', 'Stark', \"'s\"): {'Mansion': 1.0}, ('Stark', \"'s\", 'Mansion'): {'and': 1.0}, (\"'s\", 'Mansion', 'and'): {'Stark Tower': 1.0}, ('Mansion', 'and', 'Stark'): {'Tower': 1.0}, ('and', 'Stark', 'Tower.'): {'After creating': 1.0}, ('Stark', 'Tower.', 'After'): {'creating': 1.0}, ('Tower.', 'After', 'creating'): {'the Mark II': 1.0}, ('After', 'creating', 'the'): {'Mark II': 1.0}, ('creating', 'the', 'Mark'): {'II': 1.0}, ('the', 'Mark', 'II'): {'armor': 1.0}, ('Mark', 'II', 'armor'): {'Stark': 1.0}, ('II', 'armor', 'Stark'): {'uploaded': 1.0}, ('armor', 'Stark', 'uploaded'): {'JARVIS': 1.0}, ('Stark', 'uploaded', 'JARVIS'): {'into all of the Iron Man': 1.0}, ('uploaded', 'JARVIS', 'into'): {'all of the Iron Man': 1.0}, ('JARVIS', 'into', 'all'): {'of the Iron Man': 1.0}, ('into', 'all', 'of'): {'the Iron Man': 1.0}, ('all', 'of', 'the'): {'Iron Man': 1.0}, ('of', 'the', 'Iron'): {'Man': 1.0}, ('the', 'Iron', 'Man'): {'Armors': 1.0}, ('Iron', 'Man', 'Armors'): {'as': 1.0}, ('Man', 'Armors', 'as'): {'well': 1.0}, ('Armors', 'as', 'well'): {'as allowing': 1.0}, ('as', 'well', 'as'): {'allowing': 1.0}, ('well', 'as', 'allowing'): {'him': 1.0}, ('as', 'allowing', 'him'): {'to interact': 1.0}, ('allowing', 'him', 'to'): {'interact': 1.0}, ('him', 'to', 'interact'): {'with the other': 1.0}, ('to', 'interact', 'with'): {'the other': 1.0}, ('interact', 'with', 'the'): {'other': 1.0}, ('with', 'the', 'other'): {'Avengers': 1.0}, ('the', 'other', 'Avengers'): {'giving': 1.0}, ('other', 'Avengers', 'giving'): {'them': 1.0}, ('Avengers', 'giving', 'them'): {'valuable information': 1.0}, ('giving', 'them', 'valuable'): {'information': 1.0}, ('them', 'valuable', 'information'): {'during combat': 1.0}, ('valuable', 'information', 'during'): {'combat': 1.0}, ('information', 'during', 'combat.'): {'JARVIS': 1.0}, ('during', 'combat.', 'JARVIS'): {'may be': 1.0}, ('combat.', 'JARVIS', 'may'): {'be': 1.0}, ('JARVIS', 'may', 'be'): {'the one': 1.0}, ('may', 'be', 'the'): {'one': 1.0}, ('be', 'the', 'one'): {'intellect': 1.0}, ('the', 'one', 'intellect'): {'Stark': 1.0}, ('one', 'intellect', 'Stark'): {'feels': 1.0}, ('intellect', 'Stark', 'feels'): {'most': 1.0}, ('Stark', 'feels', 'most'): {'comfortable': 1.0}, ('feels', 'most', 'comfortable'): {'opening': 1.0}, ('most', 'comfortable', 'opening'): {'up': 1.0}, ('comfortable', 'opening', 'up'): {'to': 1.0}, ('opening', 'up', 'to.'): {'JARVIS': 1.0}, ('up', 'to.', 'JARVIS'): {'can object': 1.0}, ('to.', 'JARVIS', 'can'): {'object': 1.0}, ('JARVIS', 'can', 'object'): {'to Stark': 1.0}, ('can', 'object', 'to'): {'Stark': 1.0}, ('object', 'to', 'Stark'): {\"'s commands\": 1.0}, ('to', 'Stark', \"'s\"): {'commands': 1.0}, ('Stark', \"'s\", 'commands'): {'if necessary': 1.0}, (\"'s\", 'commands', 'if'): {'necessary': 1.0}, ('commands', 'if', 'necessary.'): {'JARVIS': 1.0}, ('if', 'necessary.', 'JARVIS'): {'speaks': 1.0}, ('necessary.', 'JARVIS', 'speaks'): {'with a refined British accent': 1.0}, ('JARVIS', 'speaks', 'with'): {'a refined British accent': 1.0}, ('speaks', 'with', 'a'): {'refined British accent': 1.0}, ('with', 'a', 'refined'): {'British accent': 1.0}, ('a', 'refined', 'British'): {'accent': 1.0}, ('refined', 'British', 'accent'): {'and': 1.0}, ('British', 'accent', 'and'): {'is': 1.0}, ('accent', 'and', 'is'): {'capable': 1.0}, ('and', 'is', 'capable'): {'of back talk': 1.0}, ('is', 'capable', 'of'): {'back talk': 1.0}, ('capable', 'of', 'back'): {'talk': 0.5, 'talk sarcasm': 0.5}, ('of', 'back', 'talk'): {'sarcasm': 1.0}, ('back', 'talk', 'sarcasm'): {'and': 1.0}, ('talk', 'sarcasm', 'and'): {'condescension': 1.0}, ('sarcasm', 'and', 'condescension.'): {'During the Ultron Offensive JARVIS': 1.0}, ('and', 'condescension.', 'During'): {'the Ultron Offensive JARVIS': 1.0}, ('condescension.', 'During', 'the'): {'Ultron Offensive JARVIS': 1.0}, ('During', 'the', 'Ultron'): {'Offensive JARVIS': 1.0}, ('the', 'Ultron', 'Offensive'): {'JARVIS': 1.0}, ('Ultron', 'Offensive', 'JARVIS'): {'was': 1.0}, ('Offensive', 'JARVIS', 'was'): {'destroyed': 1.0}, ('JARVIS', 'was', 'destroyed'): {'by Ultron': 1.0}, ('was', 'destroyed', 'by'): {'Ultron': 1.0}, ('destroyed', 'by', 'Ultron'): {'although his': 1.0}, ('by', 'Ultron', 'although'): {'his': 1.0}, ('Ultron', 'although', 'his'): {'remaining': 1.0}, ('although', 'his', 'remaining'): {'programming': 1.0}, ('his', 'remaining', 'programming'): {'codes': 1.0}, ('remaining', 'programming', 'codes'): {'unknowingly': 1.0}, ('programming', 'codes', 'unknowingly'): {'continued': 1.0}, ('codes', 'unknowingly', 'continued'): {'to thwart': 1.0}, ('unknowingly', 'continued', 'to'): {'thwart': 1.0}, ('continued', 'to', 'thwart'): {'Ultron': 1.0}, ('to', 'thwart', 'Ultron'): {\"'s plans\": 1.0}, ('thwart', 'Ultron', \"'s\"): {'plans': 1.0}, ('Ultron', \"'s\", 'plans'): {'of gaining': 1.0}, (\"'s\", 'plans', 'of'): {'gaining': 1.0}, ('plans', 'of', 'gaining'): {'access': 1.0}, ('of', 'gaining', 'access'): {'to nuclear': 1.0}, ('gaining', 'access', 'to'): {'nuclear': 1.0}, ('access', 'to', 'nuclear'): {'missiles': 1.0}, ('to', 'nuclear', 'missiles.'): {'His': 1.0}, ('nuclear', 'missiles.', 'His'): {'remains': 1.0}, ('missiles.', 'His', 'remains'): {'were': 1.0}, ('His', 'remains', 'were'): {'found': 1.0}, ('remains', 'were', 'found'): {'by Stark': 1.0}, ('were', 'found', 'by'): {'Stark': 1.0}, ('found', 'by', 'Stark'): {'who': 1.0}, ('by', 'Stark', 'who'): {'uploaded': 1.0}, ('Stark', 'who', 'uploaded'): {'them': 1.0}, ('who', 'uploaded', 'them'): {'into a synthetic body': 1.0}, ('uploaded', 'them', 'into'): {'a synthetic body': 1.0}, ('them', 'into', 'a'): {'synthetic body': 1.0}, ('into', 'a', 'synthetic'): {'body': 1.0}, ('a', 'synthetic', 'body'): {'made': 1.0}, ('synthetic', 'body', 'made'): {'of vibranium': 1.0}, ('body', 'made', 'of'): {'vibranium': 1.0}, ('made', 'of', 'vibranium'): {'and': 1.0}, ('of', 'vibranium', 'and'): {'in conjunction': 1.0}, ('vibranium', 'and', 'in'): {'conjunction': 1.0}, ('and', 'in', 'conjunction'): {'with Ultron': 1.0}, ('in', 'conjunction', 'with'): {'Ultron': 1.0}, ('conjunction', 'with', 'Ultron'): {\"'s personality\": 1.0}, ('with', 'Ultron', \"'s\"): {'personality': 1.0}, ('Ultron', \"'s\", 'personality'): {'and': 1.0}, (\"'s\", 'personality', 'and'): {'an Infinity Stone': 1.0}, ('personality', 'and', 'an'): {'Infinity Stone': 1.0}, ('and', 'an', 'Infinity'): {'Stone JARVIS': 1.0}, ('an', 'Infinity', 'Stone.'): {'JARVIS': 1.0}, ('Infinity', 'Stone.', 'JARVIS'): {\"' duties\": 1.0}, ('Stone.', 'JARVIS', \"'\"): {'duties': 1.0}, ('JARVIS', \"'\", 'duties'): {'were': 1.0}, (\"'\", 'duties', 'were'): {'then': 1.0}, ('duties', 'were', 'then'): {'taken': 1.0}, ('were', 'then', 'taken'): {'over': 1.0}, ('then', 'taken', 'over'): {'by FRIDAY': 1.0}, ('taken', 'over', 'by'): {'FRIDAY': 1.0}, ('over', 'by', 'FRIDAY'): {'': 1.0}}\n"
          ],
          "name": "stdout"
        }
      ]
    },
    {
      "cell_type": "code",
      "metadata": {
        "id": "xNTT2BiJwTPG",
        "colab_type": "code",
        "colab": {}
      },
      "source": [
        ""
      ],
      "execution_count": 0,
      "outputs": []
    }
  ]
}